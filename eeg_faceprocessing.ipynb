{
 "cells": [
  {
   "cell_type": "markdown",
   "metadata": {},
   "source": [
    "# Pipeline analysis of the Face Perception Dataset\n",
    "\n",
    "### Load Libraries "
   ]
  },
  {
   "cell_type": "code",
   "execution_count": null,
   "metadata": {},
   "outputs": [],
   "source": [
    "import os \n",
    "import numpy as np\n",
    "import mne\n",
    "import matplotlib\n",
    "from mne.preprocessing import compute_current_source_density\n",
    "from mne.io import read_raw_fif, concatenate_raws\n",
    "from sklearn.pipeline import make_pipeline\n",
    "from mne.decoding import Scaler, Vectorizer, cross_val_multiscore"
   ]
  },
  {
   "cell_type": "code",
   "execution_count": null,
   "metadata": {},
   "outputs": [],
   "source": [
    "matplotlib.use('Qt5Agg')"
   ]
  },
  {
   "cell_type": "markdown",
   "metadata": {},
   "source": [
    "### Load the data"
   ]
  },
  {
   "cell_type": "code",
   "execution_count": null,
   "metadata": {},
   "outputs": [],
   "source": [
    "# define paths\n",
    "data_dir = '/Users/christinadelta/datasets/multimodal_bids'\n",
    "derivatives_dir = os.path.join(data_dir, 'derivatives')\n",
    "stimuli_dir = os.path.join(data_dir, 'stimuli')\n",
    "emptyroom_dir = os.path.join(data_dir, 'sub-emptyroom')\n",
    "task = 'facerecognition'"
   ]
  },
  {
   "cell_type": "code",
   "execution_count": null,
   "metadata": {},
   "outputs": [],
   "source": [
    "runs = 1\n",
    "raws = []\n",
    "subject = 1"
   ]
  },
  {
   "cell_type": "code",
   "execution_count": null,
   "metadata": {},
   "outputs": [],
   "source": [
    "for sub in range(subject):\n",
    "    this_sub = 'sub-{0:02d}'.format(sub+1)\n",
    "    for run in range(runs):\n",
    "        this_run = '{0:02d}'.format(run+1)\n",
    "        this_eeg = os.path.join(data_dir, this_sub, 'ses-meg', 'meg',\n",
    "                                f'{this_sub}_ses-meg_task-{task}_run-{this_run}_meg.fif')\n",
    "        \n",
    "        this_raw = read_raw_fif(this_eeg, preload=True)\n",
    "        raws.append(this_raw)"
   ]
  },
  {
   "cell_type": "code",
   "execution_count": null,
   "metadata": {},
   "outputs": [],
   "source": [
    "# merge the runs \n",
    "# concatinate the 3 raw files\n",
    "raw = concatenate_raws(raws)\n",
    "raw"
   ]
  },
  {
   "cell_type": "code",
   "execution_count": null,
   "metadata": {},
   "outputs": [],
   "source": [
    "eeg_raw.info"
   ]
  },
  {
   "cell_type": "markdown",
   "metadata": {},
   "source": [
    "### Choose the data\n",
    "This is a MEG recording that also contains EEG data (74 channels). We will only use the EEG data, so get rid of the MEG channels\n",
    "We will create a **eeg_raw** class/object for our raw data. To keep only the eeg data we will use the ```mne.pick_types()``` function"
   ]
  },
  {
   "cell_type": "code",
   "execution_count": null,
   "metadata": {},
   "outputs": [],
   "source": [
    "eeg_raw = raw.pick_types(eeg=True, meg=False, stim=True, eog=True)"
   ]
  },
  {
   "cell_type": "code",
   "execution_count": null,
   "metadata": {},
   "outputs": [],
   "source": [
    "eeg_raw.plot(duration=5)"
   ]
  },
  {
   "cell_type": "markdown",
   "metadata": {},
   "source": [
    "### Plot power spectrum"
   ]
  },
  {
   "cell_type": "code",
   "execution_count": null,
   "metadata": {},
   "outputs": [],
   "source": [
    "eeg_raw.plot_psd(fmin=1, fmax=20, n_fft=2**10, spatial_colors=True)"
   ]
  },
  {
   "cell_type": "markdown",
   "metadata": {},
   "source": [
    "### Filter the raw eeg data"
   ]
  },
  {
   "cell_type": "code",
   "execution_count": null,
   "metadata": {},
   "outputs": [],
   "source": [
    "eeg_filtered = eeg_raw.filter(l_freq=0.1, h_freq=40)"
   ]
  },
  {
   "cell_type": "markdown",
   "metadata": {},
   "source": [
    "### Run ICA"
   ]
  },
  {
   "cell_type": "code",
   "execution_count": null,
   "metadata": {},
   "outputs": [],
   "source": [
    "ica = mne.preprocessing.ICA(n_components=15, random_state=97, max_iter=800)"
   ]
  },
  {
   "cell_type": "code",
   "execution_count": null,
   "metadata": {},
   "outputs": [],
   "source": [
    "ica.fit(eeg_filtered)\n",
    "ica.plot_components()"
   ]
  },
  {
   "cell_type": "code",
   "execution_count": null,
   "metadata": {},
   "outputs": [],
   "source": [
    "# blinks\n",
    "ica.plot_overlay(eeg_filtered, exclude=[0], picks='eeg')"
   ]
  },
  {
   "cell_type": "code",
   "execution_count": null,
   "metadata": {},
   "outputs": [],
   "source": [
    "# exclude bad components\n",
    "ica.exclude = [1, 6]  # indices chosen based on various plots above"
   ]
  },
  {
   "cell_type": "markdown",
   "metadata": {},
   "source": [
    "### Make copy of the original raw, apply ICA and visualise both"
   ]
  },
  {
   "cell_type": "code",
   "execution_count": null,
   "metadata": {},
   "outputs": [],
   "source": [
    "orig_raw = eeg_raw.copy()\n",
    "ica.apply(eeg_filtered)"
   ]
  },
  {
   "cell_type": "markdown",
   "metadata": {},
   "source": [
    "### Plot the raw and the cleaned data side by side and inspect"
   ]
  },
  {
   "cell_type": "code",
   "execution_count": null,
   "metadata": {},
   "outputs": [],
   "source": [
    "orig_raw.plot(start=0, duration=5, block=False, title= 'before ICA')\n",
    "eeg_filtered.plot(start=0, duration=5, block=True, title='after ICA')"
   ]
  },
  {
   "cell_type": "markdown",
   "metadata": {},
   "source": [
    "### Add events"
   ]
  },
  {
   "cell_type": "code",
   "execution_count": null,
   "metadata": {},
   "outputs": [],
   "source": [
    "events = mne.find_events(eeg_raw)\n",
    "print(events[:5])"
   ]
  },
  {
   "cell_type": "code",
   "execution_count": null,
   "metadata": {},
   "outputs": [],
   "source": [
    "# create events_id dictionary \n",
    "event_id = {\n",
    "    'famous_in': 5,\n",
    "    'famous_imm': 6, \n",
    "    'famous_del': 7,\n",
    "    'unfam_in': 13,\n",
    "    'unfam_imm': 14,\n",
    "    'unfam_del': 15,\n",
    "    'scram_in': 17,\n",
    "    'scram_imm': 18,\n",
    "    'scram_del': 19\n",
    "}"
   ]
  },
  {
   "cell_type": "code",
   "execution_count": null,
   "metadata": {},
   "outputs": [],
   "source": [
    "# visualise events\n",
    "events_fig = mne.viz.plot_events(events, event_id=event_id,  sfreq=eeg_raw.info['sfreq'], \n",
    "                          first_samp=eeg_raw.first_samp)"
   ]
  },
  {
   "cell_type": "code",
   "execution_count": null,
   "metadata": {},
   "outputs": [],
   "source": [
    "eeg_filtered.plot(duration=10, events=events, event_id=event_id)"
   ]
  },
  {
   "cell_type": "markdown",
   "metadata": {},
   "source": [
    "### Epoch the data"
   ]
  },
  {
   "cell_type": "code",
   "execution_count": null,
   "metadata": {},
   "outputs": [],
   "source": [
    "tmin = -0.3\n",
    "tmax = 0.5\n",
    "baseline = (-0.20, 0) \n",
    "reject_criteria = dict(eeg=150e-6)"
   ]
  },
  {
   "cell_type": "code",
   "execution_count": null,
   "metadata": {},
   "outputs": [],
   "source": [
    "epochs = mne.Epochs(eeg_filtered, \n",
    "                    events=events, \n",
    "                    event_id=event_id, \n",
    "                    tmin=tmin, \n",
    "                    tmax=tmax,\n",
    "                    baseline=baseline,\n",
    "                    reject=reject_criteria, \n",
    "                    preload=True)"
   ]
  },
  {
   "cell_type": "code",
   "execution_count": null,
   "metadata": {},
   "outputs": [],
   "source": [
    "epochs.plot(events=events, event_id=event_id)"
   ]
  },
  {
   "cell_type": "markdown",
   "metadata": {},
   "source": [
    "### Select epochs of interest\n",
    "\n",
    "#### Equalise the number of trials for each condition"
   ]
  },
  {
   "cell_type": "code",
   "execution_count": null,
   "metadata": {},
   "outputs": [],
   "source": [
    "epochs.equalize_event_counts(['famous_in', \n",
    "                              'famous_imm', \n",
    "                              'famous_del', \n",
    "                              'unfam_in',\n",
    "                              'unfam_imm', \n",
    "                              'unfam_del', \n",
    "                              'scram_in', \n",
    "                              'scram_imm', \n",
    "                              'scram_del'])"
   ]
  },
  {
   "cell_type": "code",
   "execution_count": null,
   "metadata": {},
   "outputs": [],
   "source": [
    "famous_in = epochs['famous_in']\n",
    "famous_imm = epochs['famous_imm']\n",
    "famous_del = epochs['famous_del']\n",
    "unfam_in = epochs['unfam_in']\n",
    "unfam_imm = epochs['unfam_imm']\n",
    "unfam_del = epochs['unfam_del']\n",
    "scram_in = epochs['scram_in']\n",
    "scram_imm = epochs['scram_imm']\n",
    "scram_del = epochs['scram_del']"
   ]
  },
  {
   "cell_type": "markdown",
   "metadata": {},
   "source": [
    "### Run Decoding Analysis\n",
    "#### Create a classifier"
   ]
  },
  {
   "cell_type": "code",
   "execution_count": null,
   "metadata": {},
   "outputs": [],
   "source": []
  },
  {
   "cell_type": "code",
   "execution_count": null,
   "metadata": {},
   "outputs": [],
   "source": []
  }
 ],
 "metadata": {
  "kernelspec": {
   "display_name": "Python 3",
   "language": "python",
   "name": "python3"
  },
  "language_info": {
   "codemirror_mode": {
    "name": "ipython",
    "version": 3
   },
   "file_extension": ".py",
   "mimetype": "text/x-python",
   "name": "python",
   "nbconvert_exporter": "python",
   "pygments_lexer": "ipython3",
   "version": "3.7.7"
  }
 },
 "nbformat": 4,
 "nbformat_minor": 4
}
